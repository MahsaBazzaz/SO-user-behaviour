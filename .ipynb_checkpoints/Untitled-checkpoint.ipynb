{
 "cells": [
  {
   "cell_type": "code",
   "execution_count": 2,
   "metadata": {},
   "outputs": [],
   "source": [
    "from stackapi import StackAPI"
   ]
  },
  {
   "cell_type": "code",
   "execution_count": 5,
   "metadata": {},
   "outputs": [],
   "source": [
    "SITE = StackAPI('stackoverflow')\n",
    "questions = SITE.fetch('questions', fromdate=1457136000, todate=1457222400, min=20, tagged='python', sort='votes')"
   ]
  },
  {
   "cell_type": "code",
   "execution_count": 11,
   "metadata": {},
   "outputs": [
    {
     "name": "stdout",
     "output_type": "stream",
     "text": [
      "{'tags': ['python', 'django', 'django-upgrade'], 'owner': {'reputation': 2820, 'user_id': 3380209, 'user_type': 'registered', 'accept_rate': 67, 'profile_image': 'https://www.gravatar.com/avatar/8f59b14e9d68ea636c6a70bc080e1f74?s=256&d=identicon&r=PG&f=1', 'display_name': 'albar', 'link': 'https://stackoverflow.com/users/3380209/albar'}, 'is_answered': True, 'view_count': 18101, 'accepted_answer_id': 35817614, 'answer_count': 1, 'score': 41, 'last_activity_date': 1494321044, 'creation_date': 1457200271, 'last_edit_date': 1494321044, 'question_id': 35817597, 'content_license': 'CC BY-SA 3.0', 'link': 'https://stackoverflow.com/questions/35817597/django-core-servers-basehttp-filewrapper-disappears-in-django-1-9', 'title': 'django.core.servers.basehttp.FileWrapper disappears in Django 1.9'}\n",
      "{'tags': ['python', 'numpy', 'scipy', 'signal-processing'], 'owner': {'reputation': 3504, 'user_id': 1525423, 'user_type': 'registered', 'accept_rate': 69, 'profile_image': 'https://i.stack.imgur.com/xkRry.png?s=256&g=1', 'display_name': 'Finwood', 'link': 'https://stackoverflow.com/users/1525423/finwood'}, 'is_answered': True, 'view_count': 1507, 'accepted_answer_id': 35818398, 'answer_count': 2, 'score': 26, 'last_activity_date': 1457246584, 'creation_date': 1457186774, 'last_edit_date': 1457200889, 'question_id': 35815093, 'content_license': 'CC BY-SA 3.0', 'link': 'https://stackoverflow.com/questions/35815093/sine-calculation-orders-of-magnitude-slower-than-cosine', 'title': 'sine calculation orders of magnitude slower than cosine'}\n",
      "{'tags': ['python', 'mongodb', 'mongodb-query', 'pymongo'], 'owner': {'reputation': 3741, 'user_id': 1204527, 'user_type': 'registered', 'accept_rate': 76, 'profile_image': 'https://www.gravatar.com/avatar/649b50c05ebed1a2f8bf71bca51da924?s=256&d=identicon&r=PG', 'display_name': 'Mirza Delic', 'link': 'https://stackoverflow.com/users/1204527/mirza-delic'}, 'is_answered': True, 'view_count': 18643, 'accepted_answer_id': 35812898, 'answer_count': 1, 'score': 21, 'last_activity_date': 1487176725, 'creation_date': 1457171915, 'last_edit_date': 1487176725, 'question_id': 35812685, 'content_license': 'CC BY-SA 3.0', 'link': 'https://stackoverflow.com/questions/35812685/pymongo-create-unique-index-with-2-or-more-fields', 'title': 'PyMongo create unique index with 2 or more fields'}\n",
      "{'tags': ['python', 'shell', 'ssh', 'paramiko', 'interactive'], 'owner': {'reputation': 687, 'user_id': 6023729, 'user_type': 'registered', 'profile_image': 'https://lh5.googleusercontent.com/-37B_sYErWwk/AAAAAAAAAAI/AAAAAAAAFiQ/WH58YQwvVM0/photo.jpg?sz=256', 'display_name': 'misha', 'link': 'https://stackoverflow.com/users/6023729/misha'}, 'is_answered': True, 'view_count': 57007, 'accepted_answer_id': 36948840, 'answer_count': 1, 'score': 20, 'last_activity_date': 1556758520, 'creation_date': 1457220390, 'last_edit_date': 1556758520, 'question_id': 35821184, 'content_license': 'CC BY-SA 4.0', 'link': 'https://stackoverflow.com/questions/35821184/implement-an-interactive-shell-over-ssh-in-python-using-paramiko', 'title': 'Implement an interactive shell over ssh in Python using Paramiko?'}\n"
     ]
    }
   ],
   "source": [
    "for x in questions['items']:\n",
    "    "
   ]
  },
  {
   "cell_type": "code",
   "execution_count": null,
   "metadata": {},
   "outputs": [],
   "source": []
  }
 ],
 "metadata": {
  "kernelspec": {
   "display_name": "Python 3",
   "language": "python",
   "name": "python3"
  },
  "language_info": {
   "codemirror_mode": {
    "name": "ipython",
    "version": 3
   },
   "file_extension": ".py",
   "mimetype": "text/x-python",
   "name": "python",
   "nbconvert_exporter": "python",
   "pygments_lexer": "ipython3",
   "version": "3.8.5"
  }
 },
 "nbformat": 4,
 "nbformat_minor": 4
}
