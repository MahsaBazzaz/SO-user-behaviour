{
 "cells": [
  {
   "cell_type": "code",
   "execution_count": 10,
   "metadata": {},
   "outputs": [],
   "source": [
    "from stackapi import StackAPI\n",
    "import csv\n",
    "import datetime\n",
    "import matplotlib.pyplot as plt\n",
    "import seaborn as sns\n",
    "from collections import Counter\n",
    "import pandas as pd\n",
    "import numpy as np\n"
   ]
  },
  {
   "cell_type": "code",
   "execution_count": 49,
   "metadata": {},
   "outputs": [],
   "source": [
    "# fetch wordpress questions\n",
    "SITE = StackAPI('stackoverflow')\n",
    "ts = int(round(datetime.datetime(2021, 1, 1, 0, 0).timestamp()))\n",
    "tf = int(round(datetime.datetime(2021, 2, 1, 0, 0).timestamp()))\n",
    "\n",
    "SITE.page_size = 20\n",
    "SITE.max_pages = 1\n",
    "\n",
    "wordpress_posts = SITE.fetch(\n",
    "    'questions', fromdate=ts, todate=tf, tagged='wordpress', sort='votes')\n",
    "\n",
    "\n"
   ]
  },
  {
   "cell_type": "code",
   "execution_count": 56,
   "metadata": {},
   "outputs": [],
   "source": [
    "# fetch wordpress questions\n",
    "SITE = StackAPI('stackoverflow')\n",
    "ts = int(round(datetime.datetime(2021, 1, 1, 0, 0).timestamp()))\n",
    "tf = int(round(datetime.datetime(2021, 2, 1, 0, 0).timestamp()))\n",
    "\n",
    "SITE.page_size = 20\n",
    "SITE.max_pages = 1\n",
    "\n",
    "drupal_posts = SITE.fetch(\n",
    "    'questions', fromdate=ts, todate=tf, tagged='drupal', sort='votes')"
   ]
  },
  {
   "cell_type": "code",
   "execution_count": 42,
   "metadata": {},
   "outputs": [],
   "source": [
    "# metrics for questions\n",
    "header = ['id', 'score', 'owner_reputation', 'answer_count' , 'is_answered' , 'comment_count']\n"
   ]
  },
  {
   "cell_type": "code",
   "execution_count": 44,
   "metadata": {},
   "outputs": [],
   "source": [
    "# write information for wordpress tag\n",
    "# open the file in the write mode\n",
    "f = open('./wordpress_csv', 'w')\n",
    "# create the csv writer\n",
    "writer = csv.writer(f)\n",
    "# write the header\n",
    "writer.writerow(header)\n",
    "\n",
    "comments_count = {}\n",
    "\n",
    "for x in wordpress_posts['items']:\n",
    "    SITE.page_size = 4\n",
    "    SITE.max_pages = 1\n",
    "    comments = SITE.fetch('comments/{ids}', ids=[x['question_id']])\n",
    "    comments_count[x['question_id']] = len(comments['items'])\n",
    "    if('owner' in x and 'reputation' in owner):\n",
    "        owner = x['owner']\n",
    "        r = owner['reputation']\n",
    "    else:\n",
    "        r = -1\n",
    "    # write a row to the csv file\n",
    "    writer.writerow([x['question_id'], x['score'], r, x['answer_count'],\n",
    "                     x['is_answered'], comments_count[x['question_id']]])\n",
    "\n",
    "# close the file\n",
    "f.close()\n"
   ]
  },
  {
   "cell_type": "code",
   "execution_count": 57,
   "metadata": {},
   "outputs": [],
   "source": [
    "# write information for wordpress tag\n",
    "# open the file in the write mode\n",
    "f = open('./drupal_csv', 'w')\n",
    "# create the csv writer\n",
    "writer = csv.writer(f)\n",
    "# write the header\n",
    "writer.writerow(header)\n",
    "\n",
    "comments_count = {}\n",
    "\n",
    "for x in drupal_posts['items']:\n",
    "    SITE.page_size = 4\n",
    "    SITE.max_pages = 1\n",
    "    comments = SITE.fetch('comments/{ids}', ids=[x['question_id']])\n",
    "    comments_count[x['question_id']] = len(comments['items'])\n",
    "    if('owner' in x and 'reputation' in owner):\n",
    "        owner = x['owner']\n",
    "        r = owner['reputation']\n",
    "    else:\n",
    "        r = -1\n",
    "    # write a row to the csv file\n",
    "    writer.writerow([x['question_id'], x['score'], r, x['answer_count'],\n",
    "                     x['is_answered'], comments_count[x['question_id']]])\n",
    "\n",
    "# close the file\n",
    "f.close()\n",
    "\n"
   ]
  },
  {
   "cell_type": "code",
   "execution_count": 87,
   "metadata": {},
   "outputs": [
    {
     "data": {
      "image/png": "[encoded data removed]",
      "text/plain": [
       "<Figure size 432x288 with 2 Axes>"
      ]
     },
     "metadata": {},
     "output_type": "display_data"
    }
   ],
   "source": [
    "fig1, ax1 = plt.subplots(2)\n",
    "\n",
    "#### wordpress\n",
    "total = 0\n",
    "is_answered = 0\n",
    "with open('./wordpress_csv', newline='') as csvfile:\n",
    "    reader = csv.DictReader(csvfile)\n",
    "    for row in reader:\n",
    "        total += 1\n",
    "        if(row['is_answered'] == 'True'):\n",
    "            is_answered += 1\n",
    "\n",
    "labels = 'with accepted answer', 'with no accepted answer'\n",
    "\n",
    "sizes = [is_answered, total-is_answered]\n",
    "\n",
    "ax1[0].title.set_text('wordpress')\n",
    "ax1[0].pie(sizes, labels=labels, autopct='%1.1f%%', shadow=True, startangle=90)\n",
    "ax1[0].axis('equal')  # Equal aspect ratio ensures that pie is drawn as a circle.\n",
    "\n",
    "#### drupal\n",
    "total = 0\n",
    "is_answered = 0\n",
    "with open('./drupal_csv', newline='') as csvfile:\n",
    "    reader = csv.DictReader(csvfile)\n",
    "    for row in reader:\n",
    "        total += 1\n",
    "        if(row['is_answered'] == 'True'):\n",
    "            is_answered += 1\n",
    "\n",
    "labels = 'with accepted answer', 'with no accepted answer'\n",
    "\n",
    "sizes = [is_answered, total-is_answered]\n",
    "\n",
    "ax1[1].title.set_text('drupal')\n",
    "ax1[1].pie(sizes, labels=labels, autopct='%1.1f%%', shadow=True, startangle=90)\n",
    "ax1[1].axis('equal')  # Equal aspect ratio ensures that pie is drawn as a circle.\n",
    "\n",
    "plt.show()\n",
    "\n"
   ]
  },
  {
   "cell_type": "code",
   "execution_count": 34,
   "metadata": {},
   "outputs": [
    {
     "data": {
      "image/png": "[encoded data removed]",
      "text/plain": [
       "<Figure size 720x720 with 2 Axes>"
      ]
     },
     "metadata": {
      "needs_background": "light"
     },
     "output_type": "display_data"
    },
    {
     "data": {
      "text/plain": [
       "<Figure size 720x504 with 0 Axes>"
      ]
     },
     "metadata": {},
     "output_type": "display_data"
    }
   ],
   "source": [
    "fig1, ax1 = plt.subplots(2,figsize=(10,10))\n",
    "\n",
    "wp_df = pd.read_csv('./wordpress_csv')\n",
    "dr_df = pd.read_csv('./drupal_csv')\n",
    "fig = plt.figure(figsize =(10, 7))\n",
    " \n",
    "# Creating plot\n",
    "ax1[0].boxplot(wp_df.score)\n",
    "ax1[1].boxplot(dr_df.score)\n",
    " \n",
    "# show plot\n",
    "plt.show()\n",
    " "
   ]
  },
  {
   "cell_type": "code",
   "execution_count": 7,
   "metadata": {},
   "outputs": [
    {
     "data": {
      "image/png": "[encoded data removed]",
      "text/plain": [
       "<Figure size 432x288 with 1 Axes>"
      ]
     },
     "metadata": {
      "needs_background": "light"
     },
     "output_type": "display_data"
    }
   ],
   "source": [
    "wp_df = pd.read_csv('./wordpress_csv')\n",
    "dr_df = pd.read_csv('./drupal_csv')\n",
    "\n",
    "plt.title(\"user reputation\")\n",
    "plt.hist(wp_df.owner_reputation, alpha=0.5, label='wordpress')\n",
    "plt.hist(dr_df.owner_reputation,alpha=0.5, label='drupal')\n",
    "plt.legend(loc='upper right')\n",
    "plt.show()\n"
   ]
  },
  {
   "cell_type": "code",
   "execution_count": 18,
   "metadata": {},
   "outputs": [
    {
     "data": {
      "text/plain": [
       "Text(0.5, 1.0, 'answer per question')"
      ]
     },
     "execution_count": 18,
     "metadata": {},
     "output_type": "execute_result"
    },
    {
     "data": {
      "image/png": "[encoded data removed]",
      "text/plain": [
       "<Figure size 432x288 with 1 Axes>"
      ]
     },
     "metadata": {
      "needs_background": "light"
     },
     "output_type": "display_data"
    }
   ],
   "source": [
    "\n",
    "wp_df = pd.read_csv('./wordpress_csv')\n",
    "wp_answers = sum(wp_df.answer_count)\n",
    "apq_wp = wp_answers/len(wp_df.answer_count)\n",
    "\n",
    "dr_df = pd.read_csv('./drupal_csv')\n",
    "dr_answers = sum(dr_df.answer_count)\n",
    "apq_dr = dr_answers/len(dr_df.answer_count)\n",
    "\n",
    "# creating the bar plot\n",
    "plt.bar(['wordpress', 'drupal'], [apq_wp, apq_dr], color='green',\n",
    "        width=0.4)\n",
    "plt.title('answer per question')\n"
   ]
  },
  {
   "cell_type": "code",
   "execution_count": 19,
   "metadata": {},
   "outputs": [
    {
     "data": {
      "text/plain": [
       "Text(0.5, 1.0, 'answer per question')"
      ]
     },
     "execution_count": 19,
     "metadata": {},
     "output_type": "execute_result"
    },
    {
     "data": {
      "image/png": "[encoded data removed]",
      "text/plain": [
       "<Figure size 432x288 with 1 Axes>"
      ]
     },
     "metadata": {
      "needs_background": "light"
     },
     "output_type": "display_data"
    }
   ],
   "source": [
    "wp_df = pd.read_csv('./wordpress_csv')\n",
    "wp_comments = sum(wp_df.comment_count)\n",
    "cpq_wp = wp_comments/len(wp_df.comment_count)\n",
    "\n",
    "dr_df = pd.read_csv('./drupal_csv')\n",
    "dr_comments = sum(dr_df.comment_count)\n",
    "cpq_dr = dr_comments/len(dr_df.comment_count)\n",
    "\n",
    "# creating the bar plot\n",
    "plt.bar(['wordpress', 'drupal'], [cpq_wp, cpq_dr], color='green',\n",
    "        width=0.4)\n",
    "plt.title('answer per question')"
   ]
  }
 ],
 "metadata": {
  "kernelspec": {
   "display_name": "Python 3",
   "language": "python",
   "name": "python3"
  },
  "language_info": {
   "codemirror_mode": {
    "name": "ipython",
    "version": 3
   },
   "file_extension": ".py",
   "mimetype": "text/x-python",
   "name": "python",
   "nbconvert_exporter": "python",
   "pygments_lexer": "ipython3",
   "version": "3.8.5"
  }
 },
 "nbformat": 4,
 "nbformat_minor": 4
}
