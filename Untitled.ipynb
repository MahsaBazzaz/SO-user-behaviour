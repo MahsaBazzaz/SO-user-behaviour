{
 "cells": [
  {
   "cell_type": "code",
   "execution_count": 34,
   "metadata": {},
   "outputs": [],
   "source": [
    "from stackapi import StackAPI\n",
    "import csv\n",
    "import datetime"
   ]
  },
  {
   "cell_type": "code",
   "execution_count": 35,
   "metadata": {},
   "outputs": [],
   "source": [
    "SITE = StackAPI('stackoverflow')\n",
    "ts= int(round(datetime.datetime(2016, 3, 5, 0, 0).timestamp()))\n",
    "tf = int(round(datetime.datetime(2016, 3, 6, 0, 0).timestamp()))\n",
    "questions = SITE.fetch('questions', fromdate=ts, todate=tf, tagged='wordpress', sort='votes')"
   ]
  },
  {
   "cell_type": "code",
   "execution_count": 36,
   "metadata": {},
   "outputs": [
    {
     "data": {
      "text/plain": [
       "100"
      ]
     },
     "execution_count": 36,
     "metadata": {},
     "output_type": "execute_result"
    }
   ],
   "source": [
    "header = ['question_id', 'accepted_answer_id', 'number_of_linked_questions', 'view_count', 'answer_count', 'owner_reputation']\n",
    "\n",
    "# open the file in the write mode\n",
    "f = open('./csv_file', 'w')\n",
    "# create the csv writer\n",
    "writer = csv.writer(f)\n",
    "\n",
    "# write the header\n",
    "writer.writerow(header)"
   ]
  },
  {
   "cell_type": "code",
   "execution_count": 37,
   "metadata": {},
   "outputs": [],
   "source": [
    "related = {};\n",
    "for x in questions['items']:\n",
    "    r = SITE.fetch('questions/{ids}/linked', ids=[x['question_id']])\n",
    "    related[x['question_id']] = len(r['items'])"
   ]
  },
  {
   "cell_type": "code",
   "execution_count": 33,
   "metadata": {},
   "outputs": [],
   "source": [
    "questions['items'][21]\n",
    "for x in questions['items']:\n",
    "    # write a row to the csv file\n",
    "    owner = x['owner']\n",
    "    if 'reputation' in owner:\n",
    "        r = owner['reputation']\n",
    "    else:\n",
    "        r = -1\n",
    "    if 'accepted_answer_id' in x:\n",
    "        accepted_answer_id = x['accepted_answer_id']\n",
    "    else:\n",
    "        accepted_answer_id = -1\n",
    "    writer.writerow([x['question_id'], accepted_answer_id,related[x['question_id']],x['view_count'],x['answer_count'],r])"
   ]
  },
  {
   "cell_type": "code",
   "execution_count": null,
   "metadata": {},
   "outputs": [],
   "source": [
    "# close the file\n",
    "f.close()\n"
   ]
  }
 ],
 "metadata": {
  "kernelspec": {
   "display_name": "Python 3",
   "language": "python",
   "name": "python3"
  },
  "language_info": {
   "codemirror_mode": {
    "name": "ipython",
    "version": 3
   },
   "file_extension": ".py",
   "mimetype": "text/x-python",
   "name": "python",
   "nbconvert_exporter": "python",
   "pygments_lexer": "ipython3",
   "version": "3.8.5"
  }
 },
 "nbformat": 4,
 "nbformat_minor": 4
}
