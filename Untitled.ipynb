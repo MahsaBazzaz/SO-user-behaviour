{
 "cells": [
  {
   "cell_type": "code",
   "execution_count": 27,
   "metadata": {},
   "outputs": [],
   "source": [
    "from stackapi import StackAPI\n",
    "import csv\n",
    "import datetime\n",
    "import matplotlib.pyplot as plt\n",
    "import seaborn as sns"
   ]
  },
  {
   "cell_type": "code",
   "execution_count": 33,
   "metadata": {},
   "outputs": [
    {
     "name": "stdout",
     "output_type": "stream",
     "text": [
      "10\n",
      "10\n"
     ]
    }
   ],
   "source": [
    "# fetch wordpress questions\n",
    "SITE = StackAPI('stackoverflow')\n",
    "ts = int(round(datetime.datetime(2021, 1, 1, 0, 0).timestamp()))\n",
    "tf = int(round(datetime.datetime(2021, 1, 2, 0, 0).timestamp()))\n",
    "\n",
    "SITE.page_size = 10\n",
    "SITE.max_pages = 1\n",
    "\n",
    "wordpress_posts = SITE.fetch(\n",
    "    'posts', fromdate=ts, todate=tf, tagged='wordpress', sort='votes')\n",
    "\n",
    "drupal_posts = SITE.fetch(\n",
    "    'posts', fromdate=ts, todate=tf, tagged='drupal', sort='votes')\n",
    "\n",
    "print(len(wordpress_posts['items']))\n",
    "print(len(drupal_posts['items']))\n"
   ]
  },
  {
   "cell_type": "code",
   "execution_count": 34,
   "metadata": {},
   "outputs": [],
   "source": [
    "# metrics for questions\n",
    "header = ['id', 'type', 'score', 'owner_reputation',\n",
    "          'owner_accept_rate', 'comment_count']\n"
   ]
  },
  {
   "cell_type": "code",
   "execution_count": 35,
   "metadata": {},
   "outputs": [],
   "source": [
    "# write information for wordpress tag\n",
    "# open the file in the write mode\n",
    "f = open('./wordpress_csv', 'w')\n",
    "# create the csv writer\n",
    "writer = csv.writer(f)\n",
    "# write the header\n",
    "writer.writerow(header)\n",
    "\n",
    "comments_count = {}\n",
    "\n",
    "for x in wordpress_posts['items']:\n",
    "    SITE.page_size = 4\n",
    "    SITE.max_pages = 1\n",
    "    comments = SITE.fetch('comments/{ids}', ids=[x['post_id']])\n",
    "    comments_count[x['post_id']] = len(comments['items'])\n",
    "    if('owner' in x and 'reputation' in owner):\n",
    "        owner = x['owner']\n",
    "        r = owner['reputation']\n",
    "    else:\n",
    "        r = -1\n",
    "    if('owner' in x and 'accept_rate' in owner):\n",
    "        owner = x['owner']\n",
    "        a = owner['accept_rate']\n",
    "    else:\n",
    "        a = -1\n",
    "    # write a row to the csv file\n",
    "    writer.writerow([x['post_id'], x['post_type'],\n",
    "                     x['score'], r, a, comments_count[x['post_id']]])\n",
    "\n",
    "# close the file\n",
    "f.close()\n"
   ]
  },
  {
   "cell_type": "code",
   "execution_count": 36,
   "metadata": {},
   "outputs": [],
   "source": [
    "# write information for wordpress tag\n",
    "# open the file in the write mode\n",
    "f = open('./drupal_csv', 'w')\n",
    "# create the csv writer\n",
    "writer = csv.writer(f)\n",
    "# write the header\n",
    "writer.writerow(header)\n",
    "\n",
    "comments_count = {}\n",
    "\n",
    "for x in drupal_posts['items']:\n",
    "    SITE.page_size = 4\n",
    "    SITE.max_pages = 1\n",
    "    comments = SITE.fetch('comments/{ids}', ids=[x['post_id']])\n",
    "    comments_count[x['post_id']] = len(comments['items'])\n",
    "    if('owner' in x and 'reputation' in owner):\n",
    "        owner = x['owner']\n",
    "        r = owner['reputation']\n",
    "    else:\n",
    "        r = -1\n",
    "    if('owner' in x and 'accept_rate' in owner):\n",
    "        owner = x['owner']\n",
    "        a = owner['accept_rate']\n",
    "    else:\n",
    "        a = -1\n",
    "    # write a row to the csv file\n",
    "    writer.writerow([x['post_id'], x['post_type'],\n",
    "                     x['score'], r, a, comments_count[x['post_id']]])\n",
    "\n",
    "# close the file\n",
    "f.close()\n"
   ]
  },
  {
   "cell_type": "code",
   "execution_count": 7,
   "metadata": {},
   "outputs": [
    {
     "data": {
      "image/png": "[encoded data removed]",
      "text/plain": [
       "<Figure size 432x288 with 1 Axes>"
      ]
     },
     "metadata": {},
     "output_type": "display_data"
    }
   ],
   "source": [
    "total = 0\n",
    "with_answer = 0\n",
    "with open('./wordpress_csv', newline='') as csvfile:\n",
    "    reader = csv.DictReader(csvfile)\n",
    "    for row in reader:\n",
    "        total += 1\n",
    "        if(row['accepted_answer_id'] != -1):\n",
    "            with_answer += 1\n",
    "\n",
    "labels = 'with accepted answer', 'not no accepted answer'\n",
    "\n",
    "sizes = [with_answer, total-with_answer]\n",
    "\n",
    "plt.title = \"wordpress\"\n",
    "fig1, ax1 = plt.subplots()\n",
    "ax1.pie(sizes, labels=labels, autopct='%1.1f%%', shadow=True, startangle=90)\n",
    "ax1.axis('equal')  # Equal aspect ratio ensures that pie is drawn as a circle.\n",
    "plt.show()"
   ]
  }
 ],
 "metadata": {
  "kernelspec": {
   "display_name": "Python 3",
   "language": "python",
   "name": "python3"
  },
  "language_info": {
   "codemirror_mode": {
    "name": "ipython",
    "version": 3
   },
   "file_extension": ".py",
   "mimetype": "text/x-python",
   "name": "python",
   "nbconvert_exporter": "python",
   "pygments_lexer": "ipython3",
   "version": "3.8.5"
  }
 },
 "nbformat": 4,
 "nbformat_minor": 4
}
