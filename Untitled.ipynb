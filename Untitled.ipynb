{
 "cells": [
  {
   "cell_type": "code",
   "execution_count": 1,
   "metadata": {},
   "outputs": [],
   "source": [
    "from stackapi import StackAPI"
   ]
  },
  {
   "cell_type": "code",
   "execution_count": 2,
   "metadata": {},
   "outputs": [
    {
     "data": {
      "text/plain": [
       "{'backoff': 0,\n",
       " 'has_more': False,\n",
       " 'page': 1,\n",
       " 'quota_max': 300,\n",
       " 'quota_remaining': 299,\n",
       " 'total': 0,\n",
       " 'items': [{'tags': ['python', 'django', 'django-upgrade'],\n",
       "   'owner': {'reputation': 2820,\n",
       "    'user_id': 3380209,\n",
       "    'user_type': 'registered',\n",
       "    'accept_rate': 67,\n",
       "    'profile_image': 'https://www.gravatar.com/avatar/8f59b14e9d68ea636c6a70bc080e1f74?s=256&d=identicon&r=PG&f=1',\n",
       "    'display_name': 'albar',\n",
       "    'link': 'https://stackoverflow.com/users/3380209/albar'},\n",
       "   'is_answered': True,\n",
       "   'view_count': 18100,\n",
       "   'accepted_answer_id': 35817614,\n",
       "   'answer_count': 1,\n",
       "   'score': 41,\n",
       "   'last_activity_date': 1494321044,\n",
       "   'creation_date': 1457200271,\n",
       "   'last_edit_date': 1494321044,\n",
       "   'question_id': 35817597,\n",
       "   'content_license': 'CC BY-SA 3.0',\n",
       "   'link': 'https://stackoverflow.com/questions/35817597/django-core-servers-basehttp-filewrapper-disappears-in-django-1-9',\n",
       "   'title': 'django.core.servers.basehttp.FileWrapper disappears in Django 1.9'},\n",
       "  {'tags': ['python', 'numpy', 'scipy', 'signal-processing'],\n",
       "   'owner': {'reputation': 3504,\n",
       "    'user_id': 1525423,\n",
       "    'user_type': 'registered',\n",
       "    'accept_rate': 69,\n",
       "    'profile_image': 'https://i.stack.imgur.com/xkRry.png?s=256&g=1',\n",
       "    'display_name': 'Finwood',\n",
       "    'link': 'https://stackoverflow.com/users/1525423/finwood'},\n",
       "   'is_answered': True,\n",
       "   'view_count': 1507,\n",
       "   'accepted_answer_id': 35818398,\n",
       "   'answer_count': 2,\n",
       "   'score': 26,\n",
       "   'last_activity_date': 1457246584,\n",
       "   'creation_date': 1457186774,\n",
       "   'last_edit_date': 1457200889,\n",
       "   'question_id': 35815093,\n",
       "   'content_license': 'CC BY-SA 3.0',\n",
       "   'link': 'https://stackoverflow.com/questions/35815093/sine-calculation-orders-of-magnitude-slower-than-cosine',\n",
       "   'title': 'sine calculation orders of magnitude slower than cosine'},\n",
       "  {'tags': ['python', 'mongodb', 'mongodb-query', 'pymongo'],\n",
       "   'owner': {'reputation': 3741,\n",
       "    'user_id': 1204527,\n",
       "    'user_type': 'registered',\n",
       "    'accept_rate': 76,\n",
       "    'profile_image': 'https://www.gravatar.com/avatar/649b50c05ebed1a2f8bf71bca51da924?s=256&d=identicon&r=PG',\n",
       "    'display_name': 'Mirza Delic',\n",
       "    'link': 'https://stackoverflow.com/users/1204527/mirza-delic'},\n",
       "   'is_answered': True,\n",
       "   'view_count': 18642,\n",
       "   'accepted_answer_id': 35812898,\n",
       "   'answer_count': 1,\n",
       "   'score': 21,\n",
       "   'last_activity_date': 1487176725,\n",
       "   'creation_date': 1457171915,\n",
       "   'last_edit_date': 1487176725,\n",
       "   'question_id': 35812685,\n",
       "   'content_license': 'CC BY-SA 3.0',\n",
       "   'link': 'https://stackoverflow.com/questions/35812685/pymongo-create-unique-index-with-2-or-more-fields',\n",
       "   'title': 'PyMongo create unique index with 2 or more fields'},\n",
       "  {'tags': ['python', 'shell', 'ssh', 'paramiko', 'interactive'],\n",
       "   'owner': {'reputation': 687,\n",
       "    'user_id': 6023729,\n",
       "    'user_type': 'registered',\n",
       "    'profile_image': 'https://lh5.googleusercontent.com/-37B_sYErWwk/AAAAAAAAAAI/AAAAAAAAFiQ/WH58YQwvVM0/photo.jpg?sz=256',\n",
       "    'display_name': 'misha',\n",
       "    'link': 'https://stackoverflow.com/users/6023729/misha'},\n",
       "   'is_answered': True,\n",
       "   'view_count': 56987,\n",
       "   'accepted_answer_id': 36948840,\n",
       "   'answer_count': 1,\n",
       "   'score': 20,\n",
       "   'last_activity_date': 1556758520,\n",
       "   'creation_date': 1457220390,\n",
       "   'last_edit_date': 1556758520,\n",
       "   'question_id': 35821184,\n",
       "   'content_license': 'CC BY-SA 4.0',\n",
       "   'link': 'https://stackoverflow.com/questions/35821184/implement-an-interactive-shell-over-ssh-in-python-using-paramiko',\n",
       "   'title': 'Implement an interactive shell over ssh in Python using Paramiko?'}]}"
      ]
     },
     "execution_count": 2,
     "metadata": {},
     "output_type": "execute_result"
    }
   ],
   "source": [
    "SITE = StackAPI('stackoverflow')\n",
    "questions = SITE.fetch('questions', fromdate=1457136000, todate=1457222400, min=20, tagged='python', sort='votes')\n",
    "questions"
   ]
  },
  {
   "cell_type": "code",
   "execution_count": null,
   "metadata": {},
   "outputs": [],
   "source": []
  }
 ],
 "metadata": {
  "kernelspec": {
   "display_name": "Python 3",
   "language": "python",
   "name": "python3"
  },
  "language_info": {
   "codemirror_mode": {
    "name": "ipython",
    "version": 3
   },
   "file_extension": ".py",
   "mimetype": "text/x-python",
   "name": "python",
   "nbconvert_exporter": "python",
   "pygments_lexer": "ipython3",
   "version": "3.8.5"
  }
 },
 "nbformat": 4,
 "nbformat_minor": 4
}
